{
 "cells": [
  {
   "cell_type": "code",
   "execution_count": 194,
   "metadata": {
    "scrolled": false
   },
   "outputs": [
    {
     "name": "stdout",
     "output_type": "stream",
     "text": [
      "nothing\n"
     ]
    }
   ],
   "source": [
    "import requests\n",
    "from bs4 import BeautifulSoup\n",
    "#from selenium import webdriver\n",
    "# -*- coding: utf-8 -*- \n",
    "\n",
    "url = 'http://www.bmstu.ru/mstu/undergraduate/schedule/table-view/'\n",
    "\n",
    "\n",
    "def site(url):\n",
    "    response = requests.get(url).content\n",
    "    return response\n",
    "    \n",
    "\n",
    "def checkCourse(mes):\n",
    "    mas = mes.split('-')\n",
    "    if int(mas[1]) < 30:\n",
    "        course = 1\n",
    "    elif int(mas[1]) < 50:\n",
    "        course = 2\n",
    "    elif int(mas[1]) < 70:\n",
    "        course = 3\n",
    "    elif int(mas[1]) < 90:\n",
    "        course = 4\n",
    "    elif int(mas[1]) < 110:\n",
    "        course = 5\n",
    "    elif int(mas[1]) < 120:\n",
    "        course = 6\n",
    "    elif int(mas[1]) < 130:\n",
    "        course = 7\n",
    "    else :\n",
    "        course = 0\n",
    "    return str(course)\n",
    "\n",
    "\n",
    "\n",
    "'''def findSchedule1(response):\n",
    "    soup = BeautifulSoup(response, 'lxml')\n",
    "    table = soup.find('div', {'id': 'vt-list-5'})\n",
    "    table1 = table.find('div', {'class': 'col-md-12'})\n",
    "    for row in table1.find_all('tr'):\n",
    "        group_list = row.find(text='МТ1-101; МТ2-101; МТ3-101; МТ6-101; Э5-101')\n",
    "        if group_list != None:\n",
    "            schedule_link = row.find('a',{'class':'j-bold'}).get('href')\n",
    "            break\n",
    "    return schedule_link '''\n",
    "    \n",
    "    \n",
    "def findSchedule(response, mes):\n",
    "    schedule_link = 'nothing'\n",
    "    soup = BeautifulSoup(response, 'lxml')\n",
    "    course = checkCourse(mes)\n",
    "    parts = mes.split(\"-\") #разделяем входное сообщение на номер кафедры и группу\n",
    "    table = soup.find('div', {'id': 'vt-list-' + course})\n",
    "    table1 = table.find('div', {'class': 'col-md-12'})\n",
    "    for row in table1.find_all('tr'):\n",
    "        for col in row.find_all('td', {'class':'groupname'}):\n",
    "            mega_line = col.get_text() #все группы из найденного тега\n",
    "            line = mega_line.split('; ') #разбили на отдельные кафедры\n",
    "            for each in line:\n",
    "                small_line = each.split('-') #список, в котором по очереди хранятся номера кафедр и группы\n",
    "                x = 0\n",
    "                while len(small_line) > x:\n",
    "                    if small_line[x] == parts[0]:\n",
    "                        groups = small_line[x+1].split(',')\n",
    "                        for y in groups:\n",
    "                            if y == parts[1]:\n",
    "                                schedule_link = row.find('a',{'class':'j-bold'}).get('href')\n",
    "                                break\n",
    "                        x+=2\n",
    "                    else:\n",
    "                        x+=2\n",
    "                        \n",
    "    if schedule_link == 'nothing':\n",
    "        return schedule_link\n",
    "    else:\n",
    "        return url + schedule_link       \n",
    " \n",
    "\n",
    "print findSchedule(site(url), u'СМ122-81')\n",
    "    \n",
    "    \n",
    "    \n",
    "#дни недели - изображения day-1:day-6\n"
   ]
  },
  {
   "cell_type": "code",
   "execution_count": null,
   "metadata": {
    "collapsed": true
   },
   "outputs": [],
   "source": []
  }
 ],
 "metadata": {
  "kernelspec": {
   "display_name": "Python 2",
   "language": "python",
   "name": "python2"
  },
  "language_info": {
   "codemirror_mode": {
    "name": "ipython",
    "version": 2
   },
   "file_extension": ".py",
   "mimetype": "text/x-python",
   "name": "python",
   "nbconvert_exporter": "python",
   "pygments_lexer": "ipython2",
   "version": "2.7.13"
  }
 },
 "nbformat": 4,
 "nbformat_minor": 2
}
